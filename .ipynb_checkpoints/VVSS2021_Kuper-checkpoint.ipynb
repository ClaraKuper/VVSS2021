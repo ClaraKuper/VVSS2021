{
 "cells": [
  {
   "cell_type": "markdown",
   "metadata": {
    "pycharm": {
     "name": "#%% md\n"
    }
   },
   "source": [
    "#### Code for the Poster Contribution A 133 \"Go- no-go decisions based on gradually revealed visual information\" at V-VSS 2021\n",
    "##### by Clara Kuper\n",
    "##### April 2021\n",
    "\n",
    "In this code, I will review and discuss the data from a pilot experiment. Substantial parts of this analysis are \n",
    "presented at V-VSS 2021 in poster session A, on Saturday, the 22nd of May 2021. This notebook includes more analysis and \n",
    "information than included in the poster. Figures used in the poster are marked as \n",
    "\"V-VSS 2021 Figure\" and the corresponding analysis is marked as \"V-VSS 2021 Analysis\"\n",
    "\n",
    "In this notebook, I will follow these steps:\n",
    "\n",
    "0. Load the needed libraries and data files\n",
    "\n",
    "1. review the data \n",
    "    \n",
    "    a. describe size, structure\n",
    "    \n",
    "    b. show basic behavioural measurements (V-VSS 2021 Figures & Code)\n",
    "    \n",
    "    \n",
    "2. describe different strategies to solve the task\n",
    "    \n",
    "    a. explain how hit probability was computed\n",
    "    \n",
    "    b. compare ideal observers using different strategies\n",
    "    \n",
    "    c. fit linear models to models the response type (go/ no-go). (V-VSS 2021 Figures & Code)\n",
    "    \n",
    "    d. fit linear models to the reaction time (V-VSS 2021 Figures & Code)\n",
    "    \n",
    "    \n",
    "3. describe the time windows that had an influence on the response (V-VSS 2021 Figures & Code)\n",
    "    \n",
    "    a. modeled forwards, from the start of each trial\n",
    "    \n",
    "    b. modeled backwards, from the response in each trial\n",
    "    \n",
    "    \n",
    "5. describe 3 mechanisms, based on drift diffusion models, and compare their simulated output to 3. (V-VSS 2021 Figures & Code)"
   ]
  },
  {
   "cell_type": "markdown",
   "metadata": {},
   "source": [
    "A few words about this notebook:\n",
    "\n",
    "As you will notice, this notebook contains very few lines of code. Instead, it executes functions and scipts that  are stored in the folder \"utils\". If you are interested in any specific procedures used here, please look them up there.\n",
    "\n",
    "The linear response models will are fitted directly in the notebook."
   ]
  },
  {
   "cell_type": "code",
   "execution_count": 1,
   "metadata": {
    "pycharm": {
     "is_executing": false
    }
   },
   "outputs": [
    {
     "name": "stdout",
     "output_type": "stream",
     "text": [
      "The long df has 17 columns and 57534 rows\n",
      "The short df has 33 columns and 9589 rows\n",
      "The short go df has 4750 rows and the short nogo df has 4839 rows\n"
     ]
    }
   ],
   "source": [
    "##################################\n",
    "# import the necessary libraries #\n",
    "##################################\n",
    "\n",
    "# functions for plots\n",
    "import utils.plotting as plotting\n",
    "# functions for diverse tasks\n",
    "import utils.utils as utils\n",
    "from utils.drift_diffusion_analysis import BoundCollapsingExponentialDelay, FirstValDrift, ThreshDrift, ContinuousUpdate\n",
    "# functions for drift diffusion models\n",
    "import utils.drift_diffusion_analysis as dda\n",
    "\n",
    "\n",
    "\n",
    "import numpy as np\n",
    "import pandas as pd\n",
    "import pickle\n",
    "import matplotlib.pyplot as plt\n",
    "\n",
    "import os\n",
    "import scipy.stats as stats\n",
    "\n",
    "############\n",
    "# import R #\n",
    "############\n",
    "# we will use the R framework to fit mixed effect models\n",
    "os.environ['KMP_DUPLICATE_LIB_OK']='True'\n",
    "os.environ['R_HOME'] = 'C:\\Program Files\\R\\R-4.0.3'\n",
    "# pymer is built on the lme4 package in R\n",
    "from pymer4.models import Lmer, Lm\n",
    "\n",
    "##############\n",
    "# data paths #\n",
    "##############\n",
    "path_data = './data/'\n",
    "path_models = './models/'\n",
    "\n",
    "############## \n",
    "# data files #\n",
    "##############\n",
    "# wide df\n",
    "df_short = pd.read_csv(path_data+'dataframe_short.csv', sep = ',')\n",
    "# long df\n",
    "df_long = pd.read_csv(path_data+'dataframe_long.csv', sep = ',')\n",
    "\n",
    "## when fitting reaction times, we will need only the trial with \"go\" responses\n",
    "responses = [0,1]\n",
    "ldf_nogo, ldf_go = utils.split_df(df_long, 'goResp', responses)\n",
    "sdf_nogo, sdf_go = utils.split_df(df_short, 'goResp', responses)\n",
    "\n",
    "# print some information about the data frames:\n",
    "print(f\"The long df has {df_long.shape[1]} columns and {df_long.shape[0]} rows\")\n",
    "print(f\"The short df has {df_short.shape[1]} columns and {df_short.shape[0]} rows\")\n",
    "print(f\"The short go df has {sdf_go.shape[0]} rows and the short nogo df has {sdf_nogo.shape[0]} rows\")"
   ]
  },
  {
   "cell_type": "markdown",
   "metadata": {
    "pycharm": {
     "name": "#%% md\n"
    }
   },
   "source": [
    "## 1. Data Review\n",
    "### Introduction to the task:\n",
    "The observer is asked to decide if a moving stimulus (attacker) will intercept or pass a target range (goal) on the screen.\n",
    "The goal is revealed gradually while the attacker is moving, by showing dots (samples) that are sampled uniformly \n",
    "from the goal's position. 6 samples are shown over a trial duration of 1 second.\n",
    "A response has to be given before the attacker reaches the goal, either by moving the hand from the keyboard to \n",
    "the screen and touching the estimated location of the goal (go), or by keeping the hand on the keyboard (no-go).\n",
    "\n",
    "Below, I include an illustration of one trial, which can also be found in the \"figures\" folder.\n",
    "![TrialLocal](./figures/example_trial.gif \"Example Trial\")\n",
    "\n",
    "### Introduction to the data structure:\n",
    "\n",
    "The \"short\" data frame has one row for each trial. Properties of individual samples are stored in seperate columns\n",
    "\n",
    "The \"long\" data frame has one row for each sample (six rows per trial), where properties for different samples are stored\n",
    "in the same column.\n",
    "\n",
    "The most important column names for this analysis are:\n",
    "\n",
    "1. subject: the ID for each observer [o1, o2, o3, o4]\n",
    "2. session: the session ID [1 - 3]\n",
    "4. indTrial: a unique ID for each trial (only in the long data frame, corresponds to the index in the short data frame)\n",
    "5. rea_time: reaction time in seconds (time from go signal till the movement to the screen started)\n",
    "6. goResp: if observers produced a \"go\" or \"no-go\" response [1,0]\n",
    "7. hitGoal: if the current trial was a hit or a pass trial [1,0]\n",
    "8. answer: if the response was correct or incorrect [1,0]\n",
    "9. response_cat: the response category [HIT, MISS, CORRECT_REJECTION, FALSE_ALARM]\n",
    "10. sampleTimeMsGo: the time in ms at which a sample appeared relative to the go signal (with extensions _01 - _06 for the short data frame)\n",
    "11. samplePosDegAtt: the distance from the attacker to the current sample in degree visual angle (with extensions for the short data frame)\n",
    "12. sampleProbHit: the probability that the trial is a \"Hit\", computed from the current sample (with extensions for the short data frame)\n",
    "13. sampleAccprobHit: the probability that the trial is a \"Hit\", computed from all samples up to (and including) the current sample (with extensions)\n",
    "14. sampleID: the order in which samples were shown (only for the long data frame) [0 - 6]\n",
    "\n",
    "Other columns are variations of the above, with different time units or expressed relatively to a different time in the \n",
    "experiment (e.g. sampleTimeSecResp is the time of sample appearance in seconds relative to the response onset)."
   ]
  },
  {
   "cell_type": "code",
   "execution_count": null,
   "metadata": {
    "pycharm": {
     "is_executing": false,
     "name": "#%% \n"
    }
   },
   "outputs": [],
   "source": [
    "########################################\n",
    "# some summaries generated with pandas #\n",
    "# to get an overview of the data       #\n",
    "########################################\n",
    "# proportion of go/ no-go responses\n",
    "summary_bSS = df_short.groupby(['subject', 'session']).describe().goResp\n",
    "summary_bSS"
   ]
  },
  {
   "cell_type": "markdown",
   "metadata": {
    "pycharm": {
     "name": "#%% md\n"
    }
   },
   "source": [
    "every subject ran 3 session with ~800 successfully completed trials in each. The maximum number of excluded trials was \n",
    "4 in one session.\n",
    "\n",
    "Subjects generated between 60 - 40 % go responses."
   ]
  },
  {
   "cell_type": "code",
   "execution_count": null,
   "metadata": {
    "pycharm": {
     "is_executing": false,
     "name": "#%% \n"
    }
   },
   "outputs": [],
   "source": [
    "# proportion of correct/ incorrect responses by subject, session and condition\n",
    "summary_a_bSSH = df_short.groupby(['subject','session', 'hitGoal']).describe().answer\n",
    "summary_a_bSSH"
   ]
  },
  {
   "cell_type": "markdown",
   "metadata": {
    "pycharm": {
     "name": "#%% md\n"
    }
   },
   "source": [
    "Responses are mostly correct."
   ]
  },
  {
   "cell_type": "code",
   "execution_count": null,
   "metadata": {
    "pycharm": {
     "is_executing": false,
     "name": "#%%\n"
    }
   },
   "outputs": [],
   "source": [
    "# response times\n",
    "summary_r_bSS = df_short.groupby(['subject','session','goResp']).describe().rea_time\n",
    "summary_r_bSS"
   ]
  },
  {
   "cell_type": "markdown",
   "metadata": {
    "pycharm": {
     "name": "#%% md\n"
    }
   },
   "source": [
    "We only have reaction times for \"go\" responses, but not for \"no-go\" responses.\n",
    "Observer seem to differ in their response times."
   ]
  },
  {
   "cell_type": "code",
   "execution_count": null,
   "metadata": {
    "pycharm": {
     "is_executing": false,
     "name": "#%% \n"
    }
   },
   "outputs": [],
   "source": [
    "# Build a figure for response characteristics\n",
    "rts, p_hit, p_pass, obs = plotting.make_summary_plot(df_short)\n",
    "\n",
    "#********************#\n",
    "# V-VSS 2021 figures #\n",
    "#********************#\n",
    "# Figure 1: Reaction Times \n",
    "plotting.VVSS_fig1_plot(df_short, rts, obs)\n",
    "\n",
    "\n",
    "# Figure 2: performance \n",
    "plotting.VVSS_fig2_plot(p_hit, p_pass, obs)\n",
    "\n"
   ]
  },
  {
   "cell_type": "markdown",
   "metadata": {
    "pycharm": {
     "name": "#%% md\n"
    }
   },
   "source": [
    "## 2. Response strategies\n",
    "### Estimating the probability of a \"hit\"\n",
    "\n",
    "Due to the random sampling from the goal's true location, samples can appear close to the attacker,\n",
    "(suggesting a \"hit\" trial), even though the ground truth is a \"pass\" trial. Vice versa, samples can \n",
    "also appear far away from the attacker (suggesting a \"pass\" trial), even though the current trial is\n",
    "a hit trial.\n",
    "\n",
    "The distance between attacker and target can also be expressed in terms of a \"hit probability\", where\n",
    "a distance between attacker and target that exceeds the goal's width results in a probability of 0, and\n",
    "very small distances result in a probability close to one.\n"
   ]
  },
  {
   "cell_type": "code",
   "execution_count": null,
   "metadata": {
    "pycharm": {
     "is_executing": false,
     "name": "#%% \n"
    }
   },
   "outputs": [],
   "source": [
    "# Visualization of Hit Probability\n",
    "plotting.show_hit_probability(df_long)\n"
   ]
  },
  {
   "cell_type": "markdown",
   "metadata": {
    "pycharm": {
     "name": "#%% md\n"
    }
   },
   "source": [
    "Shown above is the probability that the current trial is a \"hit\" or a \"pass\" trial (y axis), for different\n",
    "attacker positions (x axis). \n",
    "6 samples are presented, their position is marked with a dot.\n",
    "\n",
    "We compare two different probabilities. The \"individual\" probability is computed based only on the\n",
    "most recently shown sample.\n",
    "The \"accumulated\" probability is computed based on all currently presented samples.\n",
    "\n",
    "We can see that for accumulated probabilities, samples shown between 2 known samples don't change the \n",
    "probability of a \"hit\". We also see, that the range of the goal covered by previous samples changes the steepness\n",
    "of the drop in probability."
   ]
  },
  {
   "cell_type": "markdown",
   "metadata": {
    "pycharm": {
     "name": "#%% md\n"
    }
   },
   "source": [
    "### Strategies to solve the task\n",
    "We will compare different strategies to estimate the goal's true location:\n",
    "    \n",
    "1. the responses are evaluated on a sample-by-sample basis.\n",
    "2. the responses are based on an average of individual samples.\n",
    "3. the responses are based on a combined evaluation of all presented samples.\n",
    "    \n",
    "We will show, how performance evolves with each sample for the 3 strategies presented above.\n",
    "Human observers perform this task under time pressure and will generate a response after ~500 ms, which corresponds to\n",
    "3 presented samples.\n",
    "\n",
    "The assumption made for this case is that observers will respond \"go\", when the probability of a hit\n",
    "is larger than 0.5 and 'no-go' otherwise."
   ]
  },
  {
   "cell_type": "code",
   "execution_count": null,
   "metadata": {
    "pycharm": {
     "is_executing": false,
     "name": "#%% \n"
    }
   },
   "outputs": [],
   "source": [
    "# run function to get predicted performances for each observer\n",
    "plotting.show_mean_performance(df_long, df_short)"
   ]
  },
  {
   "cell_type": "markdown",
   "metadata": {
    "pycharm": {
     "name": "#%% md\n"
    }
   },
   "source": [
    "While the performance of the \"individual\" observer does not change with more samples. The performance of the\n",
    "\"mean\" and the \"accumulated\" observers do increase over time in a highly comparable fashion, the accumulated observer \n",
    "achieves slightly better performance after the third sample.\n",
    "\n",
    "The performance of the individual ideal observer is lower than performance of our human observers. Therefore, it is \n",
    "likely that human observers use a strategy where the information from different samples is combined. Differentiating \n",
    "between accumulating evidence and a linear combination of samples is difficult in this task, because both strategies\n",
    "result in similar performance. The linear regression models I will compute in the next step are analogous to an observer\n",
    "using the \"mean\" strategy, with different weights in each time window.\n",
    " \n",
    "With the linear models, I want to demonstrate two things:\n",
    "1. there is a significant interaction between the time when a sample was shown and the probability of a hit indicated \n",
    "by that sample that influences the response (go/ no-go) and the reaction time.\n",
    "2. this interaction is non-linear. Therefore, it makes sense to estimate the slope of each sample individually."
   ]
  },
  {
   "cell_type": "code",
   "execution_count": 7,
   "metadata": {
    "pycharm": {
     "is_executing": false,
     "name": "#%% \n"
    }
   },
   "outputs": [
    {
     "data": {
      "image/png": "[encoded data removed]",
      "text/plain": [
       "<Figure size 850.394x283.465 with 3 Axes>"
      ]
     },
     "metadata": {
      "needs_background": "light"
     },
     "output_type": "display_data"
    }
   ],
   "source": [
    "####################\n",
    "# normalizing data #\n",
    "####################\n",
    "# Currently, probabilities range between 0 and 1, and time ranges between 0 and 840 ms. we want to \n",
    "# normalize both values to mean 0 and unit variance.\n",
    "\n",
    "ldf_normal = utils.normalize_df(df_long.copy(), ['sampleTimeSecGo', 'sampleProbHit'])\n",
    "sdf_normal = utils.normalize_df(df_short.copy(), ['sampleProbHit_01', 'sampleProbHit_02', 'sampleProbHit_03',\n",
    "                                                  'sampleProbHit_04', 'sampleProbHit_05', 'sampleProbHit_06'])\n",
    "# TODO: put in function\n",
    "# show the normalized values in a plot\n",
    "plotting.visualize_response_predictors(ldf_normal, sdf_normal)\n"
   ]
  },
  {
   "cell_type": "code",
   "execution_count": null,
   "metadata": {
    "pycharm": {
     "is_executing": false,
     "name": "#%%\n"
    }
   },
   "outputs": [],
   "source": [
    "#####################################\n",
    "# Fitting models with time variable #\n",
    "#####################################\n",
    "# fitting the full model\n",
    "# we use R in the background here, because we are not aware of an established framework to fit mixed logisitc regressions\n",
    "# in python.\n",
    "responses_mfull = Lmer('goResp ~ sampleProbHit * sampleTimeSecGo + (1 + sampleProbHit + sampleTimeSecGo | subject)', \n",
    "                       data = ldf_normal, family = 'binomial')\n",
    "responses_mfull.fit()"
   ]
  },
  {
   "cell_type": "code",
   "execution_count": null,
   "metadata": {
    "pycharm": {
     "is_executing": false,
     "name": "#%%\n"
    }
   },
   "outputs": [],
   "source": [
    "# the full model produces singluar fits (indication for too many random effects).\n",
    "# we will reduce the random effects in the next model\n",
    "# The random slope for time has the smallest variance (explains little variance in the data)\n",
    "# Therefore, we remove this random effect for the next model\n",
    "\n",
    "responses_m1 = Lmer('goResp ~ sampleProbHit * sampleTimeSecGo + (1 + sampleProbHit | subject)', \n",
    "                       data = ldf_normal, family = 'binomial')\n",
    "responses_m1.fit()"
   ]
  },
  {
   "cell_type": "code",
   "execution_count": null,
   "metadata": {
    "pycharm": {
     "is_executing": false,
     "name": "#%%\n"
    }
   },
   "outputs": [],
   "source": [
    "# The model now converges. We will compare it to a model that has only a random intercept, and no random \n",
    "# slopes, because the variance explained by the random slopes for probability is also low.\n",
    "responses_m2 = Lmer('goResp ~ sampleProbHit * sampleTimeSecGo + (1 | subject)', \n",
    "                       data = ldf_normal, family = 'binomial')\n",
    "responses_m2.fit()"
   ]
  },
  {
   "cell_type": "markdown",
   "metadata": {},
   "source": [
    "To compare the likelihoods of the two models, we can use a chi-square test\n",
    "the second model (responses_m2) is our \"null-model\", because it assumes that the random slopes for probability\n",
    "are zero. The first model (responses_m1) has a non-zero random slope. "
   ]
  },
  {
   "cell_type": "code",
   "execution_count": null,
   "metadata": {
    "pycharm": {
     "is_executing": false,
     "name": "#%%\n"
    }
   },
   "outputs": [],
   "source": [
    "# the test statistic is the difference between the (-2 * REML log Likelihoods of the models)\n",
    "TS = -2*responses_m2.logLike - -2*responses_m1.logLike \n",
    "# compute the p-value as a chi-squared distribution\n",
    "pval = 0.5 * (1 - stats.chi2.cdf(TS, 1)) + 0.5 * (1 - stats.chi2.cdf(TS, 2))\n",
    "# print the p-value\n",
    "print(f\"The p-value of the significance test is {pval}.\")"
   ]
  },
  {
   "cell_type": "markdown",
   "metadata": {
    "pycharm": {
     "name": "#%% md\n"
    }
   },
   "source": [
    "The p-value is below 0.05, so we should reject the null hypothesis and assume that there is a random slope for probability.\n",
    "This means, that our model of choice is model responses_m1. In this model, we have seen that the only significant terms \n",
    "were the main effect of probability and the interaction between probability and time. \n",
    "We will fit a final model without the insignificant effects."
   ]
  },
  {
   "cell_type": "code",
   "execution_count": null,
   "metadata": {
    "pycharm": {
     "is_executing": false,
     "name": "#%% \n"
    }
   },
   "outputs": [],
   "source": [
    "##################################################\n",
    "# fitting the final model with time as predictor #\n",
    "##################################################\n",
    "responses_linearmodel = Lmer('goResp ~ sampleProbHit + sampleProbHit:sampleTimeSecGo + (1 + sampleProbHit | subject)',\n",
    "                    data = ldf_normal, family = 'binomial')\n",
    "responses_linearmodel.fit()"
   ]
  },
  {
   "cell_type": "markdown",
   "metadata": {
    "pycharm": {
     "name": "#%% md\n"
    }
   },
   "source": [
    "This analysis reveals, that there is a significant interaction between probability for a hit and time. The interaction is\n",
    "negative. That means, the later a sample was presented the lower was it's impact of the response. However, this analysis\n",
    "assumes that the interaction is linear.\n",
    "We will do a simple visual test of this assumption: we will plot the relationship between response (go/ no-go) and \n",
    "probability individually for each sample and overlay the relationship estimated by our current model."
   ]
  },
  {
   "cell_type": "code",
   "execution_count": null,
   "metadata": {
    "pycharm": {
     "is_executing": false,
     "name": "#%% \n"
    }
   },
   "outputs": [],
   "source": [
    "# run the function to plot predictions vs. individual time windows\n",
    "plotting.plot_prediction_comparison(ldf_normal, responses_linearmodel, 'goResp')"
   ]
  },
  {
   "cell_type": "markdown",
   "metadata": {
    "pycharm": {
     "is_executing": true,
     "name": "#%% md\n"
    }
   },
   "source": [
    "The linear interaction seems to match the responses. But we have to wonder, why there is still a positive correlation \n",
    "between hit probability and response with sample 6. We would not expect this relationship, because sample 6 was shown \n",
    "after a response was generated. So possibly, we see the positive relationship between hit probability and response only \n",
    "because the hit probability of sample 6 correlates with the hit probability of sample 1. \n",
    "\n",
    "We can use a quick correlation test to check for this correlation."
   ]
  },
  {
   "cell_type": "code",
   "execution_count": null,
   "metadata": {
    "pycharm": {
     "is_executing": false,
     "name": "#%%\n"
    }
   },
   "outputs": [],
   "source": [
    "# compute the covariance\n",
    "cov_s1_s2 = np.cov(df_short.sampleProbHit_01, df_short.sampleProbHit_06)\n",
    "print(f\"the covariance between sample 1 and sample 6 is {cov_s1_s2}.\")\n",
    "\n",
    "# plot the correlation\n",
    "plt.scatter(df_short.sampleProbHit_01, df_short.sampleProbHit_06);"
   ]
  },
  {
   "cell_type": "markdown",
   "metadata": {
    "pycharm": {
     "name": "#%% md\n"
    }
   },
   "source": [
    "The plot shows that we have 2 different regions - one region with higher values of hit probability \n",
    "and one region with lower hit probability, those regions likely correspond to hit and pass trials.\n",
    "However, within these regions, there seems to be no clear correlation between the hit probabilities \n",
    "of sample 1 and sample 6. This motivates us to include the variable \"hitGoal\" into the model below:"
   ]
  },
  {
   "cell_type": "code",
   "execution_count": null,
   "metadata": {
    "pycharm": {
     "is_executing": false,
     "name": "#%%\n"
    }
   },
   "outputs": [],
   "source": [
    "# compute if one sample can be used to predict the other\n",
    "sampleCorr = Lm('sampleProbHit_06 ~ sampleProbHit_01 + hitGoal', data = df_short)\n",
    "sampleCorr.fit()"
   ]
  },
  {
   "cell_type": "markdown",
   "metadata": {
    "pycharm": {
     "name": "#%% md\n"
    }
   },
   "source": [
    "The variable \"hitGoal\" predicts the probability of a hit. When controlling for it, the sample \n",
    "probability itself does not predict the probability of the next sample.\n",
    "\n",
    "To allow for varying correlation between the hit probability of each sample and the outcome of each\n",
    "trial, we now fit a model that takes the probability of each sample as individual predictor.\n",
    "This can be seen as equivalent to introducing random slopes for samples IDs in the model above, while\n",
    "at the same time eliminating time as a predictor with a potential main effect. In contrast to defining\n",
    "random slopes for each sample, we include them explicitly as fixed effects. \n",
    "\n",
    "The variable hitGoal is included to prevent spurious correlation between probabilities.\n",
    "THe random effects are restricted to a random intercept for each subject, because including random slopes for\n",
    "each sample would result in singular fits. "
   ]
  },
  {
   "cell_type": "code",
   "execution_count": null,
   "metadata": {
    "pycharm": {
     "is_executing": false,
     "name": "#%%\n"
    }
   },
   "outputs": [],
   "source": [
    "################################################################ \n",
    "# Fitting responses with individual regressors for each sample #\n",
    "#################################################################\n",
    "responsesSample_full = Lmer('goResp ~ sampleProbHit_01 + sampleProbHit_02 + sampleProbHit_03 + sampleProbHit_04 + sampleProbHit_05 + sampleProbHit_06 + hitGoal +(1|subject)', \n",
    "                            data = sdf_normal, family = 'binomial')\n",
    "responsesSample_full.fit()\n"
   ]
  },
  {
   "cell_type": "code",
   "execution_count": null,
   "metadata": {
    "pycharm": {
     "is_executing": false,
     "name": "#%%\n"
    }
   },
   "outputs": [],
   "source": [
    "##############\n",
    "# VVSS Model #\n",
    "##############\n",
    "responsesSample_linearmodel = Lmer('goResp ~ sampleProbHit_01 + sampleProbHit_02 + sampleProbHit_03 + hitGoal +(1|subject)',\n",
    "                                   data = sdf_normal, family = 'binomial')\n",
    "responsesSample_linearmodel.fit()"
   ]
  },
  {
   "cell_type": "markdown",
   "metadata": {},
   "source": [
    "After controlling for the trial condition and allowing individual slopes for each sample, we can see \n",
    "that only sample 1-3 are correlated with the response type. In the following step, we want to visualize \n",
    "this correlation. \n",
    "\n",
    "Samples 4-6 will be included in the plot to illustrate the differences in the slope. Beacause the estimates\n",
    "of the slope did not change much between the full model and the final model, we will simply plot \n",
    "the results from the full model in order to get slopes for samples 4-6."
   ]
  },
  {
   "cell_type": "code",
   "execution_count": null,
   "metadata": {
    "pycharm": {
     "is_executing": false,
     "name": "#%%\n"
    }
   },
   "outputs": [],
   "source": [
    "###############\n",
    "# VVSS Figure #\n",
    "###############\n",
    "plotting.VVSS2021_fig3_plot(sdf_normal, responsesSample_full)"
   ]
  },
  {
   "cell_type": "markdown",
   "metadata": {
    "pycharm": {
     "name": "#%% md\n"
    }
   },
   "source": [
    "In the next step, we will fit linear models to reaction time, following the same steps as above.\n",
    "Reaction times only exist for trials where a \"go\" response was generated. Therefore, we will use the \"go\"\n",
    "dataset generated above."
   ]
  },
  {
   "cell_type": "code",
   "execution_count": 2,
   "metadata": {
    "pycharm": {
     "is_executing": false,
     "name": "#%% \n"
    }
   },
   "outputs": [],
   "source": [
    "#################\n",
    "# Normalization #\n",
    "#################\n",
    "# normalize the long and the short \"go\" dataset\n",
    "ldf_go_normal = utils.normalize_df(ldf_go.copy(), ['sampleTimeSecGo', 'sampleProbHit'])\n",
    "sdf_go_normal = utils.normalize_df(sdf_go.copy(), ['sampleProbHit_01','sampleProbHit_02','sampleProbHit_03',\n",
    "                                                   'sampleProbHit_04','sampleProbHit_05','sampleProbHit_06'])"
   ]
  },
  {
   "cell_type": "code",
   "execution_count": null,
   "metadata": {
    "pycharm": {
     "is_executing": false,
     "name": "#%%\n"
    }
   },
   "outputs": [],
   "source": [
    "###########################################\n",
    "# fit the models with linear interactions #\n",
    "# # # # between probability & time  # # # #\n",
    "############################################\n",
    "rts_mfull = Lmer('rea_time ~ sampleProbHit * sampleTimeMsGo + (1 + sampleProbHit + sampleTimeMsGo | subject)',\n",
    "                 data = ldf_go_normal)\n",
    "rts_mfull.fit()"
   ]
  },
  {
   "cell_type": "markdown",
   "metadata": {
    "pycharm": {
     "name": "#%% md\n"
    }
   },
   "source": [
    "This model again produces a singular fit. Therefore, we want to exclude some random effects.\n",
    "Both the random slopes for sample probability and for sample time explain very little variance.\n",
    "We will exclude them both in one step here."
   ]
  },
  {
   "cell_type": "code",
   "execution_count": null,
   "metadata": {
    "pycharm": {
     "is_executing": false,
     "name": "#%% \n"
    }
   },
   "outputs": [],
   "source": [
    "# first reduction step\n",
    "rts_r1 = Lmer('rea_time ~ sampleProbHit + sampleTimeMsGo+ sampleProbHit:sampleTimeMsGo + (1|subject)', data = ldf_go_normal)\n",
    "rts_r1.fit()"
   ]
  },
  {
   "cell_type": "markdown",
   "metadata": {
    "pycharm": {
     "name": "#%% md\n"
    }
   },
   "source": [
    "This model suggests, that there is a significant main effect of time, probability and a significant interaction of \n",
    "time and probability. Again, we want to check, if the predictions made by our model also fit the predictions we would \n",
    "make when fitting all time windows individually:"
   ]
  },
  {
   "cell_type": "code",
   "execution_count": null,
   "metadata": {
    "pycharm": {
     "is_executing": false,
     "name": "#%%\n"
    }
   },
   "outputs": [],
   "source": [
    "# run the function to plot predictions vs. individual time windows\n",
    "plotting.plot_prediction_comparison(ldf_go_normal, rts_r1, 'rea_time', order = 1)"
   ]
  },
  {
   "cell_type": "markdown",
   "metadata": {
    "pycharm": {
     "name": "#%% md\n"
    }
   },
   "source": [
    "The model clearly does not fit the correlation in the first time window. Other time windows also show a clear\n",
    "missmatch between the correlation as predicted based on single time windows and the predictions based on the model.\n",
    "This motivates us to fit a model with individual regressors for each time window.\n",
    "\n",
    "By doing so, we will exclude the main effect of time that was significant in the model above. \n",
    "However, we believe that the significance of the main effect of time is an artefact cause by the\n",
    "bad fit of the interaction term. \n",
    "\n",
    "We would not expect a main effect of time in this model, because the same temporal structure of \n",
    "stimuli appearance was repeated in each trial."
   ]
  },
  {
   "cell_type": "code",
   "execution_count": null,
   "metadata": {
    "pycharm": {
     "is_executing": false,
     "name": "#%%\n"
    }
   },
   "outputs": [],
   "source": [
    "rtsSample_full = Lmer('rea_time ~ sampleProbHit_01 + sampleProbHit_02 + sampleProbHit_03 + sampleProbHit_04 + sampleProbHit_05 + sampleProbHit_06 + hitGoal +(1|subject)', \n",
    "                      data = sdf_go_normal)\n",
    "rtsSample_full.fit()"
   ]
  },
  {
   "cell_type": "code",
   "execution_count": null,
   "metadata": {
    "pycharm": {
     "is_executing": false,
     "name": "#%%\n"
    }
   },
   "outputs": [],
   "source": [
    "rtsSample_m1 = Lmer('rea_time ~ sampleProbHit_01 + sampleProbHit_02 + sampleProbHit_03 + sampleProbHit_06 + (1|subject)', \n",
    "                    data = sdf_go_normal)\n",
    "rtsSample_m1.fit()"
   ]
  },
  {
   "cell_type": "code",
   "execution_count": null,
   "metadata": {
    "pycharm": {
     "is_executing": false,
     "name": "#%%\n"
    }
   },
   "outputs": [],
   "source": [
    "rtsSample_linearmodel = Lmer('rea_time ~ sampleProbHit_01 + sampleProbHit_03 + sampleProbHit_06 + (1|subject)', \n",
    "                             data = sdf_go_normal)\n",
    "rtsSample_linearmodel.fit()"
   ]
  },
  {
   "cell_type": "code",
   "execution_count": null,
   "metadata": {
    "pycharm": {
     "is_executing": false,
     "name": "#%% \n"
    }
   },
   "outputs": [],
   "source": [
    "# one model for the figure with all time windows, but without hitGoal\n",
    "\n",
    "rtsSample_figuremodel = Lmer('rea_time ~ sampleProbHit_01 + sampleProbHit_02 + sampleProbHit_03 + sampleProbHit_04 + sampleProbHit_05 + sampleProbHit_06 + (1|subject)', \n",
    "                             data = sdf_go_normal)\n",
    "rtsSample_figuremodel.fit()"
   ]
  },
  {
   "cell_type": "code",
   "execution_count": null,
   "metadata": {
    "pycharm": {
     "is_executing": false,
     "name": "#%%\n"
    }
   },
   "outputs": [],
   "source": [
    "########################################\n",
    "# Plot the linear reaction times model #\n",
    "# # # # # # # VVSS  Figure # # # # # # #\n",
    "########################################\n",
    "plotting.VVSS2021_fig4_plot(sdf_go_normal, rtsSample_figuremodel)"
   ]
  },
  {
   "cell_type": "markdown",
   "metadata": {
    "pycharm": {
     "name": "#%% md\n"
    }
   },
   "source": [
    "## 3. Dynamically updating responses\n",
    "\n",
    "In the following highly visual analysis, I explore what happens if evidence for a given outcome changes between samples.\n",
    "For this analysis, I compute the proportion of go response for a given change of hit probabilities between two \n",
    "adjacent time windows.\n",
    "\n",
    "The analysis will be conducted in two directions, forward (the go signal being time \"0\") and backward (the response \n",
    "onset being time \"0\")."
   ]
  },
  {
   "cell_type": "code",
   "execution_count": null,
   "metadata": {
    "pycharm": {
     "is_executing": false,
     "name": "#%%\n"
    }
   },
   "outputs": [],
   "source": [
    "######################################\n",
    "# Get an estimate for reaction times #\n",
    "# # # # # in no-go  trials # # # # # #\n",
    "######################################\n",
    "\n",
    "# in order to have an estimate for reponse times, in no-go-trials, we will assign the mean reaction time to \n",
    "# every trial with a no-go response\n",
    "df_long['nogo_rts'] = utils.get_filled_vec(df_long.copy(), 'rea_time', 'subject')\n",
    "\n",
    "# get the timing relative to the response instead of the Go signal\n",
    "df_long['sampleTimeSecResp'] = df_long.sampleTimeSecGo - df_long.nogo_rts"
   ]
  },
  {
   "cell_type": "code",
   "execution_count": null,
   "metadata": {
    "pycharm": {
     "is_executing": true,
     "name": "#%%\n"
    }
   },
   "outputs": [],
   "source": [
    "###########################################\n",
    "# Create the figure with time bin updates #\n",
    "# # # # # VVSS Code and Figures # # # # # #\n",
    "###########################################\n",
    "\n",
    "# what were the responses with a given change?\n",
    "# compute for different time windows: if the probability changed from x to y - what was the most commonly given answer?\n",
    "# define the number of time bins, we want to look at:\n",
    "n_timebin: int = 6\n",
    "# define the number of probability bins we want to look at\n",
    "n_probabilitybin = 10\n",
    "\n",
    "late_illustration, early_illustration = plotting.illustrate_update_response(df_long,n_probabilitybin)"
   ]
  },
  {
   "cell_type": "markdown",
   "metadata": {},
   "source": [
    "The patterns above illustrate the expected response patterns based on old samples, new samples or an average of them.  Newer information is always shown on the x-axis of the plots, and older information is shown on the y-axis. If a decision is made based on the probability of a hit in the older time window, we should see that more go-responses (green colour) are generated, when the old time window provided evidence for a \"hit\" above 0.5. Consequently, no-go responses (brown colour) should be generated when the evidence for a hit was below 0.5. The pattern we expect is a division of go/no-go responses along the 0.5 mark of the y-axis. When the decision is based on new information, we would expect to see that division along the 0.5 mark of the y-axis."
   ]
  },
  {
   "cell_type": "code",
   "execution_count": null,
   "metadata": {
    "scrolled": true
   },
   "outputs": [],
   "source": [
    "# generate the plot for observer's responses\n",
    "\n",
    "panelfw, panelbw = plotting.make_update_response_plot(df_long, n_timebin, n_probabilitybin)"
   ]
  },
  {
   "cell_type": "markdown",
   "metadata": {},
   "source": [
    "In this analysis, we show the proportion of go and no-go responses in a backward oriented manner (0 being the moment the hand started to move, upper row) and in a forward oriented manner (0 being the time of the go-signal, lower row).\n",
    "\n",
    "The column to the left shows the earliest change between time windows, the column to the right shows the latest change between time windows. The beginning of the two time windows that are compared in each panel is noted in the title of each panel. A time window always ends when the next time window starts. \n",
    "\n",
    "E.g. The upper left panel shows how often a \"go\" response was given when a stimulus shown between 770ms and 500 ms before a hand movement had the hit probability indicated at the y-axis, and the subsequent stimulus, presented between 500 ms and 230 ms before the hand movement had the hit probability indicated on the x-axis.\n",
    "\n",
    "The plots in the left column show a separation between go- and no-go responses along the x-axis. This indicates that the new information is a better predictor of the response. This clear separation along the x-axis disappears over time and later time points rather suggest a separation along the y-axis even though this pattern is hard to interpret, due to missing values in the upper left and lower right corner of each plot.\n",
    "\n",
    "##### more comments please on the accumulated probability used here etc."
   ]
  },
  {
   "cell_type": "markdown",
   "metadata": {},
   "source": [
    "5. Mechanistic description\n",
    "\n",
    "Finally, we will fit 3 different drift diffusion models as mechanistic explanations for the behaviour. \n",
    "The drift diffusion models vary in terms of their adaptability to novel information.\n",
    "\n",
    "The first model starts drifting with the very first presented sample and does not adjust it's response after it's drift has started.\n",
    "\n",
    "The second model only starts drifting after a given threshold for the evidence was crossed but does not change it's response after the drift has started.\n",
    "\n",
    "The third model start drifting as soon as the first sample was presented and adjusts it's drift rate with every new sample.\n",
    "\n",
    "\n",
    "We will fit these drift diffusion models using the pyDDM library written by  Maxwell Shinn, Norman H Lam and John D Murray (eLife, 2020) https://pyddm.readthedocs.io/en/latest/index.html\n",
    "\n",
    "Drift diffusion models fitted with pyDDM have 4 core parameters that can be adjusted to accomodate custom functions. These parameters are: \n",
    "1. drift: the drift rate with which the decision value approaches the boundary\n",
    "2. noise: the noise added to the drift\n",
    "3. bound: the position of the boundary\n",
    "4. overlay: any post-drift adaptations to the reaction time distributions.\n",
    "\n",
    "In the models below, noise, bound and overlay will be the same, only the drift rate will be defined differently.\n",
    "\n",
    "NOISE: the noise level will be constant throught all trials, the standart deviation will be fitted\n",
    "\n",
    "BOUND: the bounds will collaps exponentially after a delay. The decay parameter and the delay will be fitted.\n",
    "\n",
    "OVERLAY: a constant non-decision time is added. The value of that non decision time will be fitted.\n",
    "\n",
    "\n",
    "The drift rates will be explained in detail when defined.\n",
    "\n",
    "#### Important to note:\n",
    "Fitting these models takes a long time. The specific lines that call the fit will be commented out below. \n",
    "Due to computational constraints, we will fit the drift diffusion models only to one participant for the purpose of this conference. \n",
    "\n",
    "As reaction times are only available for \"go\" responses, we only fit the response time to go-responses here.\n",
    "To compare the resulting model fits to the participant, however, we need to generate no-go-responses, too. \n",
    "\n",
    "Here is how I will do this:\n",
    "\n",
    "drift diffusion models track the evidence for one outcome over another. In this implementation, the upper bound represents a \"go\" outcome, the lower bound represents a \"no-go\" outcome. To enable negative drift rates, we need to scale our evidence (probability of a hit) such that it centers at zero and has positive and negative evidence values. This is the case for our normalized hit probabilities."
   ]
  },
  {
   "cell_type": "code",
   "execution_count": 3,
   "metadata": {
    "scrolled": true
   },
   "outputs": [],
   "source": [
    "# set up the data frame to model the drift diffusion\n",
    "# import my file\n",
    "\n",
    "sample = dda.get_ddm_sample(sdf_go_normal, 'o1')\n"
   ]
  },
  {
   "cell_type": "code",
   "execution_count": 4,
   "metadata": {},
   "outputs": [
    {
     "name": "stdout",
     "output_type": "stream",
     "text": [
      "model was fitted, returning fitted model\n",
      "model was fitted, returning fitted model\n",
      "model was fitted, returning fitted model\n"
     ]
    }
   ],
   "source": [
    "ddm1 = dda.fit_save_ddm(sample, 'ddm1', 'ddm1_30_04.pkl')\n",
    "\n",
    "ddm2 = dda.fit_save_ddm(sample, 'ddm2', 'ddm2_30_04.pkl')\n",
    "\n",
    "ddm3 = dda.fit_save_ddm(sample, 'ddm3', 'ddm3_30_04.pkl')\n"
   ]
  },
  {
   "cell_type": "code",
   "execution_count": null,
   "metadata": {},
   "outputs": [],
   "source": [
    "# fit_adjust_model(sample, ddm1, lossfunction=LossRobustBIC, verbose=False)\n",
    "# fit_adjust_model(sample, ddm2, lossfunction=LossRobustBIC, verbose=False)\n",
    "# fit_adjust_model(sample, ddm3, lossfunction=LossRobustBIC, verbose=False)\n",
    "\n",
    "# with open(path_models + 'ddm1.pkl', 'wb') as output:\n",
    "#     pickle.dump(ddm1, output, pickle.HIGHEST_PROTOCOL)\n",
    "# with open(path_models + 'ddm2.pkl', 'wb') as output:\n",
    "#     pickle.dump(ddm2, output, pickle.HIGHEST_PROTOCOL)\n",
    "# with open(path_models + 'ddm3.pkl', 'wb') as output:\n",
    "#     pickle.dump(ddm3, output, pickle.HIGHEST_PROTOCOL)"
   ]
  },
  {
   "cell_type": "code",
   "execution_count": 9,
   "metadata": {},
   "outputs": [
    {
     "name": "stdout",
     "output_type": "stream",
     "text": [
      "Warning, distribution sums to 1.000000 rather than 1\n",
      "Warning, distribution sums to 1.000000 rather than 1\n",
      "Warning, distribution sums to 1.000000 rather than 1\n",
      "Warning, distribution sums to 1.000000 rather than 1\n",
      "Warning, distribution sums to 1.000000 rather than 1\n",
      "Warning, distribution sums to 1.000000 rather than 1\n",
      "Warning, distribution sums to 1.000000 rather than 1\n",
      "Warning, distribution sums to 1.000000 rather than 1\n",
      "Warning, distribution sums to 1.000000 rather than 1\n",
      "Warning, distribution sums to 1.000000 rather than 1\n",
      "Warning, distribution sums to 1.000000 rather than 1\n",
      "Warning, distribution sums to 1.000000 rather than 1\n",
      "Warning, distribution sums to 1.000000 rather than 1\n",
      "Warning, distribution sums to 1.000000 rather than 1\n",
      "Warning, distribution sums to 1.000000 rather than 1\n",
      "Warning, distribution sums to 1.000000 rather than 1\n",
      "Warning, distribution sums to 1.000000 rather than 1\n",
      "Warning, distribution sums to 1.000000 rather than 1\n",
      "Warning, distribution sums to 1.000000 rather than 1\n",
      "Warning, distribution sums to 1.000000 rather than 1\n",
      "Warning, distribution sums to 1.000000 rather than 1\n",
      "Warning, distribution sums to 1.000000 rather than 1\n",
      "Warning, distribution sums to 1.000000 rather than 1\n",
      "Warning, distribution sums to 1.000000 rather than 1\n",
      "Warning, distribution sums to 1.000000 rather than 1\n",
      "Warning, distribution sums to 1.000000 rather than 1\n",
      "Warning, distribution sums to 1.000000 rather than 1\n",
      "Warning, distribution sums to 1.000000 rather than 1\n",
      "Warning, distribution sums to 1.000000 rather than 1\n",
      "Warning, distribution sums to 1.000000 rather than 1\n",
      "Warning, distribution sums to 1.000000 rather than 1\n",
      "Warning, distribution sums to 1.000000 rather than 1\n",
      "Warning, distribution sums to 1.000000 rather than 1\n",
      "Warning, distribution sums to 1.000000 rather than 1\n",
      "Warning, distribution sums to 1.000000 rather than 1\n",
      "Warning, distribution sums to 1.000000 rather than 1\n",
      "Warning, distribution sums to 1.000000 rather than 1\n",
      "Warning, distribution sums to 1.000000 rather than 1\n",
      "Warning, distribution sums to 1.000000 rather than 1\n",
      "Warning, distribution sums to 1.000000 rather than 1\n",
      "Warning, distribution sums to 1.000000 rather than 1\n",
      "Warning, distribution sums to 1.000000 rather than 1\n",
      "Warning, distribution sums to 1.000000 rather than 1\n",
      "Warning, distribution sums to 1.000000 rather than 1\n",
      "Warning, distribution sums to 1.000000 rather than 1\n",
      "Warning, distribution sums to 1.000000 rather than 1\n",
      "Warning, distribution sums to 1.000000 rather than 1\n",
      "Warning, distribution sums to 1.000000 rather than 1\n",
      "Warning, distribution sums to 1.000000 rather than 1\n",
      "Warning, distribution sums to 1.000000 rather than 1\n",
      "Warning, distribution sums to 1.000000 rather than 1\n",
      "Warning, distribution sums to 1.000000 rather than 1\n",
      "Warning, distribution sums to 1.000000 rather than 1\n",
      "Warning, distribution sums to 1.000000 rather than 1\n",
      "Warning, distribution sums to 1.000000 rather than 1\n",
      "Warning, distribution sums to 1.000000 rather than 1\n",
      "Warning, distribution sums to 1.000000 rather than 1\n",
      "Warning, distribution sums to 1.000000 rather than 1\n",
      "Warning, distribution sums to 1.000000 rather than 1\n",
      "Warning, distribution sums to 1.000000 rather than 1\n",
      "Warning, distribution sums to 1.000000 rather than 1\n",
      "Warning, distribution sums to 1.000000 rather than 1\n",
      "Warning, distribution sums to 1.000000 rather than 1\n",
      "Warning, distribution sums to 1.000000 rather than 1\n",
      "Warning, distribution sums to 1.000000 rather than 1\n",
      "Warning, distribution sums to 1.000000 rather than 1\n",
      "Warning, distribution sums to 1.000000 rather than 1\n",
      "Warning, distribution sums to 1.000000 rather than 1\n",
      "Warning, distribution sums to 1.000000 rather than 1\n",
      "Warning, distribution sums to 1.000000 rather than 1\n",
      "Warning, distribution sums to 1.000000 rather than 1\n",
      "Warning, distribution sums to 1.000000 rather than 1\n",
      "Warning, distribution sums to 1.000000 rather than 1\n",
      "Warning, distribution sums to 1.000000 rather than 1\n",
      "Warning, distribution sums to 1.000000 rather than 1\n",
      "Warning, distribution sums to 1.000000 rather than 1\n",
      "Warning, distribution sums to 1.000000 rather than 1\n",
      "Warning, distribution sums to 1.000000 rather than 1\n",
      "Warning, distribution sums to 1.000000 rather than 1\n",
      "Warning, distribution sums to 1.000000 rather than 1\n",
      "Warning, distribution sums to 1.000000 rather than 1\n",
      "Warning, distribution sums to 1.000000 rather than 1\n",
      "Warning, distribution sums to 1.000000 rather than 1\n",
      "Warning, distribution sums to 1.000000 rather than 1\n",
      "Warning, distribution sums to 1.000000 rather than 1\n",
      "Warning, distribution sums to 1.000000 rather than 1\n",
      "Warning, distribution sums to 1.000000 rather than 1\n",
      "Warning, distribution sums to 1.000000 rather than 1\n",
      "Warning, distribution sums to 1.000000 rather than 1\n",
      "Warning, distribution sums to 1.000000 rather than 1\n",
      "Warning, distribution sums to 1.000000 rather than 1\n",
      "Warning, distribution sums to 1.000000 rather than 1\n",
      "Warning, distribution sums to 1.000000 rather than 1\n",
      "Warning, distribution sums to 1.000000 rather than 1\n",
      "Warning, distribution sums to 1.000000 rather than 1\n",
      "Warning, distribution sums to 1.000000 rather than 1\n",
      "Warning, distribution sums to 1.000000 rather than 1\n",
      "Warning, distribution sums to 1.000000 rather than 1\n",
      "Warning, distribution sums to 1.000000 rather than 1\n",
      "Warning, distribution sums to 1.000000 rather than 1\n",
      "Warning, distribution sums to 1.000000 rather than 1\n",
      "Warning, distribution sums to 1.000000 rather than 1\n",
      "Warning, distribution sums to 1.000000 rather than 1\n",
      "Warning, distribution sums to 1.000000 rather than 1\n",
      "Warning, distribution sums to 1.000000 rather than 1\n",
      "Warning, distribution sums to 1.000000 rather than 1\n",
      "Warning, distribution sums to 1.000000 rather than 1\n",
      "Warning, distribution sums to 1.000000 rather than 1\n",
      "Warning, distribution sums to 1.000000 rather than 1\n",
      "Warning, distribution sums to 1.000000 rather than 1\n",
      "Warning, distribution sums to 1.000000 rather than 1\n",
      "Warning, distribution sums to 1.000000 rather than 1\n",
      "Warning, distribution sums to 1.000000 rather than 1\n",
      "Warning, distribution sums to 1.000000 rather than 1\n",
      "Warning, distribution sums to 1.000000 rather than 1\n",
      "Warning, distribution sums to 1.000000 rather than 1\n",
      "Warning, distribution sums to 1.000000 rather than 1\n",
      "Warning, distribution sums to 1.000000 rather than 1\n",
      "Warning, distribution sums to 1.000000 rather than 1\n",
      "Warning, distribution sums to 1.000000 rather than 1\n",
      "Warning, distribution sums to 1.000000 rather than 1\n",
      "Warning, distribution sums to 1.000000 rather than 1\n",
      "Warning, distribution sums to 1.000000 rather than 1\n",
      "Warning, distribution sums to 1.000000 rather than 1\n",
      "Warning, distribution sums to 1.000000 rather than 1\n",
      "Warning, distribution sums to 1.000000 rather than 1\n",
      "Warning, distribution sums to 1.000000 rather than 1\n",
      "Warning, distribution sums to 1.000000 rather than 1\n",
      "Warning, distribution sums to 1.000000 rather than 1\n",
      "Warning, distribution sums to 1.000000 rather than 1\n",
      "Warning, distribution sums to 1.000000 rather than 1\n",
      "Warning, distribution sums to 1.000000 rather than 1\n",
      "Warning, distribution sums to 1.000000 rather than 1\n",
      "Warning, distribution sums to 1.000000 rather than 1\n",
      "Warning, distribution sums to 1.000000 rather than 1\n",
      "Warning, distribution sums to 1.000000 rather than 1\n",
      "Warning, distribution sums to 1.000000 rather than 1\n",
      "Warning, distribution sums to 1.000000 rather than 1\n",
      "Warning, distribution sums to 1.000000 rather than 1\n",
      "Warning, distribution sums to 1.000000 rather than 1\n",
      "Warning, distribution sums to 1.000000 rather than 1\n",
      "Warning, distribution sums to 1.000000 rather than 1\n",
      "Warning, distribution sums to 1.000000 rather than 1\n",
      "Warning, distribution sums to 1.000000 rather than 1\n",
      "Warning, distribution sums to 1.000000 rather than 1\n",
      "Warning, distribution sums to 1.000000 rather than 1\n",
      "Warning, distribution sums to 1.000000 rather than 1\n",
      "Warning, distribution sums to 1.000000 rather than 1\n",
      "Warning, distribution sums to 1.000000 rather than 1\n",
      "Warning, distribution sums to 1.000000 rather than 1\n",
      "Warning, distribution sums to 1.000000 rather than 1\n",
      "Warning, distribution sums to 1.000000 rather than 1\n",
      "Warning, distribution sums to 1.000000 rather than 1\n",
      "Warning, distribution sums to 1.000000 rather than 1\n",
      "Warning, distribution sums to 1.000000 rather than 1\n"
     ]
    },
    {
     "name": "stdout",
     "output_type": "stream",
     "text": [
      "Warning, distribution sums to 1.000000 rather than 1\n",
      "Warning, distribution sums to 1.000000 rather than 1\n",
      "Warning, distribution sums to 1.000000 rather than 1\n",
      "Warning, distribution sums to 1.000000 rather than 1\n",
      "Warning, distribution sums to 1.000000 rather than 1\n",
      "Warning, distribution sums to 1.000000 rather than 1\n",
      "Warning, distribution sums to 1.000000 rather than 1\n",
      "Warning, distribution sums to 1.000000 rather than 1\n",
      "Warning, distribution sums to 1.000000 rather than 1\n",
      "Warning, distribution sums to 1.000000 rather than 1\n",
      "Warning, distribution sums to 1.000000 rather than 1\n",
      "Warning, distribution sums to 1.000000 rather than 1\n",
      "Warning, distribution sums to 1.000000 rather than 1\n"
     ]
    }
   ],
   "source": [
    "ddm1_df = dda.get_ddm_responses(ddm1, sdf_normal, 'o1')\n",
    "ddm2_df = dda.get_ddm_responses(ddm2, sdf_normal, 'o1')\n",
    "ddm3_df = dda.get_ddm_responses(ddm3, sdf_normal, 'o1')"
   ]
  },
  {
   "cell_type": "code",
   "execution_count": 11,
   "metadata": {},
   "outputs": [],
   "source": [
    "def match_response_types(model_data):\n",
    "    \"\"\"\n",
    "\n",
    "    :param model_data:\n",
    "    :return:\n",
    "    \"\"\"\n",
    "    for ix in model_data.index:\n",
    "        if model_data.loc[ix, 'goResp'] == 1:\n",
    "            if model_data.loc[ix, 'hitGoal'] == 1:\n",
    "                model_data.loc[ix, 'response_cat'] = 'HIT'\n",
    "            else:\n",
    "                model_data.loc[ix, 'response_cat'] = 'FALSE ALARM'\n",
    "        else:\n",
    "            if model_data.loc[ix, 'hitGoal'] == 1:\n",
    "                model_data.loc[ix, 'response_cat'] = 'MISS'\n",
    "            else:\n",
    "                model_data.loc[ix, 'response_cat'] = 'CORRECT REJECTION'\n",
    "\n",
    "        return model_data"
   ]
  },
  {
   "cell_type": "code",
   "execution_count": 14,
   "metadata": {},
   "outputs": [],
   "source": [
    "# get response types   \n",
    "ddm1_df = match_response_types(ddm1_df)\n",
    "ddm2_df = match_response_types(ddm2_df)\n",
    "ddm3_df = match_response_types(ddm3_df)"
   ]
  },
  {
   "cell_type": "code",
   "execution_count": 24,
   "metadata": {},
   "outputs": [
    {
     "name": "stderr",
     "output_type": "stream",
     "text": [
      "C:\\Users\\ClaraQ\\anaconda3\\lib\\site-packages\\ipykernel_launcher.py:57: SettingWithCopyWarning: \n",
      "A value is trying to be set on a copy of a slice from a DataFrame.\n",
      "Try using .loc[row_indexer,col_indexer] = value instead\n",
      "\n",
      "See the caveats in the documentation: https://pandas.pydata.org/pandas-docs/stable/user_guide/indexing.html#returning-a-view-versus-a-copy\n"
     ]
    },
    {
     "ename": "NameError",
     "evalue": "name 'path_figs' is not defined",
     "output_type": "error",
     "traceback": [
      "\u001b[1;31m---------------------------------------------------------------------------\u001b[0m",
      "\u001b[1;31mNameError\u001b[0m                                 Traceback (most recent call last)",
      "\u001b[1;32m<ipython-input-24-6c2706fa4329>\u001b[0m in \u001b[0;36m<module>\u001b[1;34m\u001b[0m\n\u001b[0;32m    156\u001b[0m \u001b[0maxs_predictionW2\u001b[0m\u001b[1;33m[\u001b[0m\u001b[1;36m0\u001b[0m\u001b[1;33m]\u001b[0m\u001b[1;33m.\u001b[0m\u001b[0mset_xlabel\u001b[0m\u001b[1;33m(\u001b[0m\u001b[1;34m'p[H] sample +1'\u001b[0m\u001b[1;33m)\u001b[0m\u001b[1;33m\u001b[0m\u001b[1;33m\u001b[0m\u001b[0m\n\u001b[0;32m    157\u001b[0m \u001b[1;33m\u001b[0m\u001b[0m\n\u001b[1;32m--> 158\u001b[1;33m \u001b[0mVSS2021_modelPredW1\u001b[0m\u001b[1;33m.\u001b[0m\u001b[0msavefig\u001b[0m\u001b[1;33m(\u001b[0m\u001b[0mpath_figs\u001b[0m \u001b[1;33m+\u001b[0m \u001b[1;34m'ddmPredicitions_win1.pdf'\u001b[0m\u001b[1;33m,\u001b[0m \u001b[0mbbox_inches\u001b[0m \u001b[1;33m=\u001b[0m \u001b[1;34m'tight'\u001b[0m\u001b[1;33m)\u001b[0m\u001b[1;33m\u001b[0m\u001b[1;33m\u001b[0m\u001b[0m\n\u001b[0m\u001b[0;32m    159\u001b[0m \u001b[0mVSS2021_modelPredW2\u001b[0m\u001b[1;33m.\u001b[0m\u001b[0msavefig\u001b[0m\u001b[1;33m(\u001b[0m\u001b[0mpath_figs\u001b[0m \u001b[1;33m+\u001b[0m \u001b[1;34m'ddmPredicitions_win2.pdf'\u001b[0m\u001b[1;33m,\u001b[0m \u001b[0mbbox_inches\u001b[0m \u001b[1;33m=\u001b[0m \u001b[1;34m'tight'\u001b[0m\u001b[1;33m)\u001b[0m\u001b[1;33m\u001b[0m\u001b[1;33m\u001b[0m\u001b[0m\n\u001b[0;32m    160\u001b[0m \u001b[1;33m\u001b[0m\u001b[0m\n",
      "\u001b[1;31mNameError\u001b[0m: name 'path_figs' is not defined"
     ]
    },
    {
     "data": {
      "image/png": "[encoded data removed]",
      "text/plain": [
       "<Figure size 1440x1080 with 16 Axes>"
      ]
     },
     "metadata": {
      "needs_background": "light"
     },
     "output_type": "display_data"
    },
    {
     "data": {
      "image/png": "[encoded data removed]",
      "text/plain": [
       "<Figure size 1080x360 with 3 Axes>"
      ]
     },
     "metadata": {
      "needs_background": "light"
     },
     "output_type": "display_data"
    },
    {
     "data": {
      "image/png": "[encoded data removed]",
      "text/plain": [
       "<Figure size 1080x360 with 3 Axes>"
      ]
     },
     "metadata": {
      "needs_background": "light"
     },
     "output_type": "display_data"
    }
   ],
   "source": [
    "# make one large plot to compare the model predicitions to the actual data.\n",
    "data = sdf_normal[sdf_normal.subject == 'o1']\n",
    "\n",
    "def compare_ddm_to_data(data, m1, m2, m3, sizes=fig_sizes, cmaps=colormaps):\n",
    "    \n",
    "    fig, axs = plt.subplots(4,4, figsize = (sizes['width'] * 4 , sizes['height'] * 4), sharex = 'row', sharey = 'row')\n",
    "\n",
    "    VSS2021_fig1, axs_predictionW1 = plt.subplots(1,3, figsize = (sizes['width'] *3 * 0.8, seizes['height']* 0.8), sharex = 'all', sharey = 'all')\n",
    "    VSS2021_fig2, axs_predictionW2 = plt.subplots(1,3, figsize = (seizes['width'] *3 * 0.8, seizes['height']* 0.8), sharex = 'all', sharey = 'all')\n",
    "\n",
    "    # define the bins for count plots\n",
    "    bins = np.linspace(0,1,20)\n",
    "\n",
    "    # define response types\n",
    "    responses = ['CORRECT REJECTION', 'FALSE ALARM', 'MISS', 'HIT']\n",
    "\n",
    "    # define probability windows\n",
    "    n_pwins = 10\n",
    "    window_prob = np.linspace(min(data.sampleAccprobHit_01),max(data.sampleAccprobHit_01),n_pwins)\n",
    "\n",
    "    for m_id, m_df in enumerate([m1_df.loc[data.index,:], m2_df.loc[data.index,:], m3_df.loc[data.index,:], data]):\n",
    "\n",
    "        # first plot: distribution correct & incorrect reaction times\n",
    "        # filter correct and incorrect reaction times\n",
    "        RTs_c = m_df[m_df.answer == 1].rea_time\n",
    "        RTs_i = m_df[m_df.answer == 0].rea_time\n",
    "\n",
    "        \n",
    "        a2[0,m_id].hist([RTs_c[~np.isnan(RTs_c)],RTs_i[~np.isnan(RTs_i)]], bins= bins, stacked = True, color = p_cm([0.8, 0.2]), label = ['correct', 'false'])# bins = bins\n",
    "        #\n",
    "\n",
    "        # second plot: mean hit probabilities before each response\n",
    "        # initialize data frames\n",
    "        value_respcat_fw = pd.DataFrame()\n",
    "\n",
    "        # time information relative to go response\n",
    "        for timewin in range(1,7):\n",
    "\n",
    "            time_col = 'sampleAccprobHit_0{}'.format(timewin)\n",
    "\n",
    "            # loop through response categories\n",
    "            for respcat in responses:\n",
    "                # get mean probability for category and time value\n",
    "                value_respcat_fw.loc[respcat, timewin] = (np.mean(m_df.loc[m_df.response_cat == respcat,time_col])/2)+0.5\n",
    "\n",
    "        # plot\n",
    "        for row, c in zip(responses, c_cm(np.linspace(0, 1, len(responses)))):\n",
    "            axs[1, m_id].plot(range(1,7),value_respcat_fw.loc[row,:], label = row.lower(), color = c)\n",
    "\n",
    "\n",
    "        ## third plot: reproduce the decision after evidence pattern\n",
    "        # translate df into long data frame\n",
    "\n",
    "        # in order to match the trials later, we want an ID\n",
    "        m_df['ids'] = m_df.index\n",
    "        # melt the data frame into long format\n",
    "        long_m_df = m_df.melt(id_vars=['goResp', 'hitGoal', 'ids'], value_vars=['sampleAccprobHit_01','sampleAccprobHit_02','sampleAccprobHit_03','sampleAccprobHit_04','sampleAccprobHit_05','sampleAccprobHit_06'], var_name='sampleID', value_name='sampleAccprobHit')\n",
    "\n",
    "\n",
    "        for tWin in [1,2]:\n",
    "            # define a panda data frame to store the values:\n",
    "            # intitialize the data frames\n",
    "            change_fw = pd.DataFrame()\n",
    "\n",
    "            # filter data from this tw\n",
    "            ctw_fw = long_m_df[long_m_df.sampleID == 'sampleAccprobHit_0{}'.format(tWin)]\n",
    "\n",
    "            # filter data from the next tw\n",
    "            ntw_fw = long_m_df[long_m_df.sampleID == 'sampleAccprobHit_0{}'.format(tWin + 1)]\n",
    "\n",
    "            # go through all probabilites in tw 1\n",
    "            for p_start in range(0, n_pwins-1):\n",
    "\n",
    "                pst_low =  window_prob[p_start]\n",
    "                pst_up = window_prob[p_start + 1]\n",
    "\n",
    "                # get all IDs that fullfill the trial \n",
    "                start_IDs_fw = ctw_fw.iloc[np.where((ctw_fw.sampleAccprobHit >= pst_low)&(ctw_fw.sampleAccprobHit < pst_up))[0]]['ids']\n",
    "\n",
    "                # go through all probabilities in the next time window\n",
    "                for p_end in range(0, n_pwins-1):\n",
    "\n",
    "                    pend_low =  window_prob[p_end]\n",
    "                    pend_up = window_prob[p_end + 1]\n",
    "\n",
    "                    # get all ids that fullfill the end probability requirement\n",
    "                    end_IDs_fw = ntw_fw.iloc[np.where((ntw_fw.sampleAccprobHit >= pend_low)&(ntw_fw.sampleAccprobHit < pend_up))[0]]['ids']\n",
    "\n",
    "                    # get the intercept between the two lists\n",
    "                    ID_list_fw = np.intersect1d(start_IDs_fw, end_IDs_fw)\n",
    "\n",
    "\n",
    "                    # filter the dataframe\n",
    "                    df_fw = long_m_df.loc[np.where(long_m_df.ids.isin(ID_list_fw))]\n",
    "\n",
    "\n",
    "                    change_fw.loc[window_prob[p_start],window_prob[p_end]] = np.mean(df_fw.goResp)\n",
    "\n",
    "            # plot\n",
    "            axs[1+tWin,m_id].pcolormesh(change_fw, cmap = g_cm)\n",
    "            if m_id <= 2:\n",
    "                if tWin == 1:\n",
    "                    axs_predictionW1[m_id].pcolormesh(change_fw, cmap = g_cm)\n",
    "                else:\n",
    "                    axs_predictionW2[m_id].pcolormesh(change_fw, cmap = g_cm)\n",
    "\n",
    "\n",
    "    # Use absolute value for y-ticks\n",
    "    # change the axis ticks\n",
    "    ticks =  axs[0,0].get_yticks()\n",
    "    axs[0,0].set_yticklabels([np.round(abs(tick/len(m_df)),2) for tick in ticks]);\n",
    "    axs[0,3].legend()\n",
    "    axs[0,0].set_ylabel('response proportion')\n",
    "    axs[0,0].set_xlabel('response time in s')\n",
    "\n",
    "\n",
    "    axs[1,3].legend()\n",
    "    axs[1,0].set_ylabel('hit probability')\n",
    "    ticks =  axs[1,0].get_xticks()\n",
    "    axs[1,0].set_xticklabels([tick/10 for tick in ticks]);\n",
    "    axs[1,0].set_yticklabels(np.linspace(0, 1, 5));\n",
    "\n",
    "    axs[1,0].set_xlabel('time relative to go signal')\n",
    "\n",
    "\n",
    "    axs[2,1].set_yticklabels(np.round(change_fw.columns, 2)[::2])\n",
    "    axs[2,1].set_xticklabels(np.round(change_fw.index, 2)[[0, 2, 5, 7]]);\n",
    "    axs[2,0].set_ylabel('hit probability at t')\n",
    "    axs[2,0].set_xlabel('hit probability at t+1')\n",
    "\n",
    "    # set the axis for individual figures\n",
    "    #print(window_prob)\n",
    "\n",
    "    axs_predictionW1[0].set_yticks(np.arange(0,10,2))\n",
    "    axs_predictionW1[0].set_yticklabels(np.round(window_prob,1)[::2])\n",
    "\n",
    "    axs_predictionW1[0].set_xticks(np.arange(0,10,2))\n",
    "    axs_predictionW1[0].set_xticklabels(np.round(window_prob,1)[::2], rotation = 45)\n",
    "    axs_predictionW1[1].set_xticklabels(np.round(window_prob,1)[::2], rotation = 45)\n",
    "    axs_predictionW1[2].set_xticklabels(np.round(window_prob,1)[::2], rotation = 45)\n",
    "\n",
    "    axs_predictionW2[0].set_yticks(np.arange(0,10,2))\n",
    "    axs_predictionW2[0].set_yticklabels(np.round(window_prob,1)[::2])\n",
    "\n",
    "    axs_predictionW2[0].set_xticks(np.arange(0,10,2))\n",
    "    axs_predictionW2[0].set_xticklabels(np.round(window_prob,1)[::2], rotation = 45)\n",
    "    axs_predictionW2[1].set_xticklabels(np.round(window_prob,1)[::2], rotation = 45)\n",
    "    axs_predictionW2[2].set_xticklabels(np.round(window_prob,1)[::2], rotation = 45)\n",
    "\n",
    "    axs_predictionW1[0].set_ylabel('p[H] sample 1')\n",
    "    axs_predictionW1[0].set_xlabel('p[H] sample +1')\n",
    "\n",
    "    axs_predictionW2[0].set_ylabel('p[H] sample 2')\n",
    "    axs_predictionW2[0].set_xlabel('p[H] sample +1')\n",
    "\n",
    "    VSS2021_fig1.savefig(path_figs + 'ddmPredicitions_win1.pdf', bbox_inches = 'tight')\n",
    "    VSS2021_fig2.savefig(path_figs + 'ddmPredicitions_win2.pdf', bbox_inches = 'tight')\n",
    "\n",
    "    plt.tight_layout()\n"
   ]
  },
  {
   "cell_type": "code",
   "execution_count": null,
   "metadata": {
    "pycharm": {
     "is_executing": false,
     "name": "#%%\n"
    }
   },
   "outputs": [],
   "source": [
    "#########################\n",
    "# Miscellaneous figures #\n",
    "#########################\n",
    "#TODO: put in function\n",
    "# These figures were used to create visualizations of the experiment. \n",
    "# After they were build they were modified with Inkscape.\n",
    "\n",
    "# colorbar for time \n",
    "cbar_fig, cbar_ax = plt.subplots(figsize=(3*width, 0.0))\n",
    "cb1 = mpl.colorbar.ColorbarBase(cbar_ax, cmap=colormaps['t_cm'], orientation='horizontal')\n",
    "\n",
    "cbar_fig.savefig(path_figs + 'SupFig1_timescale.pdf', bbox_inches = 'tight')\n",
    "\n",
    "# timeline with samples dots\n",
    "VVSS2021_timecourse, axs_timecourse = plt.subplots(1,1, figsize = (3*width, height))\n",
    "\n",
    "start = np.round(min(df_long.sampleTimeSecGo), 2) # earliest sample, rounded\n",
    "end = np.round(max(df_long.sampleTimeSecGo), 2) # latest sample, rounded\n",
    "n_sample = 6\n",
    "\n",
    "axs_timecourse.scatter(np.linspace(start, end, n_sample),[1]*n_sample, color = 'black', s = 500)\n",
    "axs_timecourse.set_xlim(0,1)\n",
    "axs_timecourse.set_ylabel('samples')\n",
    "axs_timecourse.set_xlabel('time since go signal [s]')\n",
    "\n",
    "VVSS2021_timecourse.savefig(path_figs+'SupFig2_timecourse.pdf', bbox_inches = 'tight');"
   ]
  }
 ],
 "metadata": {
  "kernelspec": {
   "display_name": "python2",
   "language": "python",
   "name": "python2"
  },
  "language_info": {
   "codemirror_mode": {
    "name": "ipython",
    "version": 3
   },
   "file_extension": ".py",
   "mimetype": "text/x-python",
   "name": "python",
   "nbconvert_exporter": "python",
   "pygments_lexer": "ipython3",
   "version": "3.7.6"
  },
  "pycharm": {
   "stem_cell": {
    "cell_type": "raw",
    "metadata": {
     "collapsed": false
    },
    "source": []
   }
  }
 },
 "nbformat": 4,
 "nbformat_minor": 1
}
